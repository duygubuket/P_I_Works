{
  "nbformat": 4,
  "nbformat_minor": 0,
  "metadata": {
    "colab": {
      "name": "26677-hw3.ipynb",
      "provenance": [],
      "collapsed_sections": [],
      "include_colab_link": true
    },
    "kernelspec": {
      "name": "python3",
      "display_name": "Python 3"
    },
    "language_info": {
      "name": "python"
    }
  },
  "cells": [
    {
      "cell_type": "markdown",
      "metadata": {
        "id": "view-in-github",
        "colab_type": "text"
      },
      "source": [
        "<a href=\"https://colab.research.google.com/github/duygubuket/P_I_Works/blob/main/26677_hw3.ipynb\" target=\"_parent\"><img src=\"https://colab.research.google.com/assets/colab-badge.svg\" alt=\"Open In Colab\"/></a>"
      ]
    },
    {
      "cell_type": "markdown",
      "source": [
        "\n",
        "# NQueen with Hill Climbing"
      ],
      "metadata": {
        "id": "ymm0EPXl5Ka8"
      }
    },
    {
      "cell_type": "code",
      "execution_count": 39,
      "metadata": {
        "id": "ar_7EiId5FEw"
      },
      "outputs": [],
      "source": [
        "import time\n",
        "import random\n",
        "import numpy as np\n",
        "from random import shuffle\n",
        "from random import randrange\n",
        "\n",
        "def calculateNumberOfConflicts(position): # returns number of conflicts\n",
        "    numberOfConflicts = 0  \n",
        "\n",
        "    for i in range(0, len(position)):\n",
        "        for j in range(i + 1, len(position)):\n",
        "            if position[i] == position[j]:\n",
        "              numberOfConflicts += 1 \n",
        "                # xxx SINGLE LINE 1 xxx \n",
        "                \n",
        "            elif abs(i - j) == abs(position[i] - position[j]):\n",
        "              numberOfConflicts += 1  \n",
        "\n",
        "    return numberOfConflicts\n",
        "\n",
        "def bestNeighbor(position): # returns the best neighbor - shd be best neighbor\n",
        "    \n",
        "    min_numberOfConflicts = calculateNumberOfConflicts(position) # define current position's number of conflict as the min number of conflict\n",
        "\n",
        "    \n",
        "    best_position = position # define best position as current position\n",
        "    for i in range(0, len(position)):\n",
        "        for j in range(0, len(position)):\n",
        "            if j != position[i]:\n",
        "                temp = position.copy()\n",
        "                temp[i] = j\n",
        "                temp_numberOfConflicts = calculateNumberOfConflicts(temp)\n",
        "                if temp_numberOfConflicts <= min_numberOfConflicts:\n",
        "                    min_numberOfConflicts = temp_numberOfConflicts \n",
        "                    # xxx SINGLE LINE 2 xxx \n",
        "                    best_position=temp_numberOfConflicts\n",
        "    return best_position\n",
        "\n",
        "def randomNeighbor(position): # returns a random neighbor which is better than the current position\n",
        "    \n",
        "    candidate_positions = []\n",
        "    current_numberOfConflicts = calculateNumberOfConflicts(position)\n",
        "\n",
        "    for i in range(0, len(position)):\n",
        "      for j in range(0, len(position)):\n",
        "        if j != position[i]:\n",
        "          temp = position.copy()\n",
        "          temp[i] = j\n",
        "          temp_numberOfConflicts = calculateNumberOfConflicts(temp)\n",
        "          if temp_numberOfConflicts < current_numberOfConflicts:\n",
        "            best_position=temp \n",
        "    \n",
        "    if len(candidate_positions) != 0:\n",
        "      sample_index =  randrange(len(candidate_positions)) # xxx SINGLE LINE 3 xxx \n",
        "      return candidate_positions[sample_index]\n",
        "    else:\n",
        "      return position\n",
        "\n",
        "def printSolutionT(position): #You can use it if you need\n",
        "    N = len(position)\n",
        "\n",
        "    for i in range(N):\n",
        "        row = \"\"\n",
        "        for j in range(N):\n",
        "            if position[i] == j:\n",
        "                row += \"X \"\n",
        "            else:\n",
        "                row += \"O \"\n",
        "        print(row)"
      ]
    },
    {
      "cell_type": "code",
      "source": [
        "def NQueen(N, randomRestart, stochastic, upperBound=np.inf): # Implements variations of Hill Climbing \n",
        "    if N in [2, 3]:\n",
        "        raise ValueError(\"Failure, no solution exists for given N.\")\n",
        "\n",
        "    solved = False\n",
        "    current_position = list(np.zeros(N))\n",
        "    count = 0\n",
        "    while (calculateNumberOfConflicts(current_position) > 0) and count < upperBound: # Itearate until the problem solved or the upper limit is reached\n",
        "        initial_position = [randrange(N) for _ in range(N)]\n",
        "        current_position = initial_position\n",
        "        while True:        \n",
        "            if stochastic:\n",
        "             \n",
        "                neighbor =  randomNeighbor(current_position) # xxx SINGLE LINE 4 xxx \n",
        "            else:\n",
        "                neighbor = bestNeighbor(current_position) # xxx SINGLE LINE 5 xxx \n",
        "\n",
        "            if calculateNumberOfConflicts(neighbor) >= calculateNumberOfConflicts(current_position):\n",
        "                if randomRestart: \n",
        "                  return solved, count\n",
        "                    # xxx SINGLE LINE 6 xxx \n",
        "                else:\n",
        "                    if calculateNumberOfConflicts(current_position) != 0:\n",
        "                        return solved, count\n",
        "                    else:\n",
        "                        return True, count #line to be filled\n",
        "            \n",
        "            current_position = neighbor \n",
        "        count += 1\n",
        "\n",
        "    if count < upperBound:\n",
        "        solved = True\n",
        "\n",
        "    return solved, count"
      ],
      "metadata": {
        "id": "8byuA37r8FeH"
      },
      "execution_count": 40,
      "outputs": []
    },
    {
      "cell_type": "code",
      "source": [
        "NUM_SIMULATIONS = 100\n",
        "N = 10\n",
        "K_values = [10, 100, 1000]"
      ],
      "metadata": {
        "id": "qS49z24e8pHn"
      },
      "execution_count": 38,
      "outputs": []
    },
    {
      "cell_type": "markdown",
      "source": [
        "## Basic Hill Climbing"
      ],
      "metadata": {
        "id": "OR2usbqN8xEG"
      }
    },
    {
      "cell_type": "code",
      "source": [
        "num_successes = 0\n",
        "total_time = 0\n",
        "for i in range(NUM_SIMULATIONS):\n",
        "  start = time.time()\n",
        "  success, restart_count = NQueen(N=N, randomRestart=False, stochastic=False, upperBound=np.inf)\n",
        "  end = time.time()\n",
        "  total_time += (end - start)\n",
        "    \n",
        "  if success:\n",
        "    num_successes += 1\n",
        "\n",
        "print(f\"Elapsed time: {total_time}, with {num_successes} successes in {NUM_SIMULATIONS} simulations for N={N}.\")"
      ],
      "metadata": {
        "id": "JE3reXjh5bsW",
        "colab": {
          "base_uri": "https://localhost:8080/"
        },
        "outputId": "758126aa-180c-4db6-a7e9-db45df55a377"
      },
      "execution_count": 8,
      "outputs": [
        {
          "output_type": "stream",
          "name": "stdout",
          "text": [
            "Elapsed time: 1.3440136909484863, with 3 successes in 100 simulations for N=10.\n"
          ]
        }
      ]
    },
    {
      "cell_type": "markdown",
      "source": [
        "# Hill Climbing With Random Restarts"
      ],
      "metadata": {
        "id": "ppfrq8FKAcrv"
      }
    },
    {
      "cell_type": "code",
      "source": [
        "for K in K_values:\n",
        "  num_successes = 0\n",
        "  total_time = 0\n",
        "  total_successful_restart_count = 0\n",
        "\n",
        "  for i in range(NUM_SIMULATIONS):\n",
        "    start = time.time()\n",
        "    NQueen(N=N, randomRestart=True, stochastic=False, upperBound=K)\n",
        "    end = time.time()\n",
        "    total_time += (end - start)\n",
        "      \n",
        "    if success:\n",
        "      num_successes += 1\n",
        "      total_successful_restart_count += restart_count\n",
        "\n",
        "  print(f\"Elapsed time: {total_time}, with {num_successes} successes in {NUM_SIMULATIONS} simulations. Average # restarts per successful run : {(total_successful_restart_count * 1.0) / num_successes}. N={N}, K={K}\")"
      ],
      "metadata": {
        "id": "Q8KI7I6PAbbR",
        "colab": {
          "base_uri": "https://localhost:8080/",
          "height": 381
        },
        "outputId": "7fc59181-1dc1-41eb-cb32-4702019fbcdd"
      },
      "execution_count": 42,
      "outputs": [
        {
          "output_type": "error",
          "ename": "TypeError",
          "evalue": "ignored",
          "traceback": [
            "\u001b[0;31m---------------------------------------------------------------------------\u001b[0m",
            "\u001b[0;31mTypeError\u001b[0m                                 Traceback (most recent call last)",
            "\u001b[0;32m<ipython-input-42-939bd9782bfd>\u001b[0m in \u001b[0;36m<module>\u001b[0;34m()\u001b[0m\n\u001b[1;32m      6\u001b[0m   \u001b[0;32mfor\u001b[0m \u001b[0mi\u001b[0m \u001b[0;32min\u001b[0m \u001b[0mrange\u001b[0m\u001b[0;34m(\u001b[0m\u001b[0mNUM_SIMULATIONS\u001b[0m\u001b[0;34m)\u001b[0m\u001b[0;34m:\u001b[0m\u001b[0;34m\u001b[0m\u001b[0;34m\u001b[0m\u001b[0m\n\u001b[1;32m      7\u001b[0m     \u001b[0mstart\u001b[0m \u001b[0;34m=\u001b[0m \u001b[0mtime\u001b[0m\u001b[0;34m.\u001b[0m\u001b[0mtime\u001b[0m\u001b[0;34m(\u001b[0m\u001b[0;34m)\u001b[0m\u001b[0;34m\u001b[0m\u001b[0;34m\u001b[0m\u001b[0m\n\u001b[0;32m----> 8\u001b[0;31m     \u001b[0mNQueen\u001b[0m\u001b[0;34m(\u001b[0m\u001b[0mN\u001b[0m\u001b[0;34m=\u001b[0m\u001b[0mN\u001b[0m\u001b[0;34m,\u001b[0m \u001b[0mrandomRestart\u001b[0m\u001b[0;34m=\u001b[0m\u001b[0;32mTrue\u001b[0m\u001b[0;34m,\u001b[0m \u001b[0mstochastic\u001b[0m\u001b[0;34m=\u001b[0m\u001b[0;32mFalse\u001b[0m\u001b[0;34m,\u001b[0m \u001b[0mupperBound\u001b[0m\u001b[0;34m=\u001b[0m\u001b[0mK\u001b[0m\u001b[0;34m)\u001b[0m\u001b[0;34m\u001b[0m\u001b[0;34m\u001b[0m\u001b[0m\n\u001b[0m\u001b[1;32m      9\u001b[0m     \u001b[0mend\u001b[0m \u001b[0;34m=\u001b[0m \u001b[0mtime\u001b[0m\u001b[0;34m.\u001b[0m\u001b[0mtime\u001b[0m\u001b[0;34m(\u001b[0m\u001b[0;34m)\u001b[0m\u001b[0;34m\u001b[0m\u001b[0;34m\u001b[0m\u001b[0m\n\u001b[1;32m     10\u001b[0m     \u001b[0mtotal_time\u001b[0m \u001b[0;34m+=\u001b[0m \u001b[0;34m(\u001b[0m\u001b[0mend\u001b[0m \u001b[0;34m-\u001b[0m \u001b[0mstart\u001b[0m\u001b[0;34m)\u001b[0m\u001b[0;34m\u001b[0m\u001b[0;34m\u001b[0m\u001b[0m\n",
            "\u001b[0;32m<ipython-input-40-292daee0ca76>\u001b[0m in \u001b[0;36mNQueen\u001b[0;34m(N, randomRestart, stochastic, upperBound)\u001b[0m\n\u001b[1;32m     16\u001b[0m                 \u001b[0mneighbor\u001b[0m \u001b[0;34m=\u001b[0m \u001b[0mbestNeighbor\u001b[0m\u001b[0;34m(\u001b[0m\u001b[0mcurrent_position\u001b[0m\u001b[0;34m)\u001b[0m \u001b[0;31m# xxx SINGLE LINE 5 xxx\u001b[0m\u001b[0;34m\u001b[0m\u001b[0;34m\u001b[0m\u001b[0m\n\u001b[1;32m     17\u001b[0m \u001b[0;34m\u001b[0m\u001b[0m\n\u001b[0;32m---> 18\u001b[0;31m             \u001b[0;32mif\u001b[0m \u001b[0mcalculateNumberOfConflicts\u001b[0m\u001b[0;34m(\u001b[0m\u001b[0mneighbor\u001b[0m\u001b[0;34m)\u001b[0m \u001b[0;34m>=\u001b[0m \u001b[0mcalculateNumberOfConflicts\u001b[0m\u001b[0;34m(\u001b[0m\u001b[0mcurrent_position\u001b[0m\u001b[0;34m)\u001b[0m\u001b[0;34m:\u001b[0m\u001b[0;34m\u001b[0m\u001b[0;34m\u001b[0m\u001b[0m\n\u001b[0m\u001b[1;32m     19\u001b[0m                 \u001b[0;32mif\u001b[0m \u001b[0mrandomRestart\u001b[0m\u001b[0;34m:\u001b[0m\u001b[0;34m\u001b[0m\u001b[0;34m\u001b[0m\u001b[0m\n\u001b[1;32m     20\u001b[0m                   \u001b[0;32mreturn\u001b[0m \u001b[0msolved\u001b[0m\u001b[0;34m,\u001b[0m \u001b[0mcount\u001b[0m\u001b[0;34m\u001b[0m\u001b[0;34m\u001b[0m\u001b[0m\n",
            "\u001b[0;32m<ipython-input-39-a240c0b94150>\u001b[0m in \u001b[0;36mcalculateNumberOfConflicts\u001b[0;34m(position)\u001b[0m\n\u001b[1;32m      8\u001b[0m     \u001b[0mnumberOfConflicts\u001b[0m \u001b[0;34m=\u001b[0m \u001b[0;36m0\u001b[0m\u001b[0;34m\u001b[0m\u001b[0;34m\u001b[0m\u001b[0m\n\u001b[1;32m      9\u001b[0m \u001b[0;34m\u001b[0m\u001b[0m\n\u001b[0;32m---> 10\u001b[0;31m     \u001b[0;32mfor\u001b[0m \u001b[0mi\u001b[0m \u001b[0;32min\u001b[0m \u001b[0mrange\u001b[0m\u001b[0;34m(\u001b[0m\u001b[0;36m0\u001b[0m\u001b[0;34m,\u001b[0m \u001b[0mlen\u001b[0m\u001b[0;34m(\u001b[0m\u001b[0mposition\u001b[0m\u001b[0;34m)\u001b[0m\u001b[0;34m)\u001b[0m\u001b[0;34m:\u001b[0m\u001b[0;34m\u001b[0m\u001b[0;34m\u001b[0m\u001b[0m\n\u001b[0m\u001b[1;32m     11\u001b[0m         \u001b[0;32mfor\u001b[0m \u001b[0mj\u001b[0m \u001b[0;32min\u001b[0m \u001b[0mrange\u001b[0m\u001b[0;34m(\u001b[0m\u001b[0mi\u001b[0m \u001b[0;34m+\u001b[0m \u001b[0;36m1\u001b[0m\u001b[0;34m,\u001b[0m \u001b[0mlen\u001b[0m\u001b[0;34m(\u001b[0m\u001b[0mposition\u001b[0m\u001b[0;34m)\u001b[0m\u001b[0;34m)\u001b[0m\u001b[0;34m:\u001b[0m\u001b[0;34m\u001b[0m\u001b[0;34m\u001b[0m\u001b[0m\n\u001b[1;32m     12\u001b[0m             \u001b[0;32mif\u001b[0m \u001b[0mposition\u001b[0m\u001b[0;34m[\u001b[0m\u001b[0mi\u001b[0m\u001b[0;34m]\u001b[0m \u001b[0;34m==\u001b[0m \u001b[0mposition\u001b[0m\u001b[0;34m[\u001b[0m\u001b[0mj\u001b[0m\u001b[0;34m]\u001b[0m\u001b[0;34m:\u001b[0m\u001b[0;34m\u001b[0m\u001b[0;34m\u001b[0m\u001b[0m\n",
            "\u001b[0;31mTypeError\u001b[0m: object of type 'int' has no len()"
          ]
        }
      ]
    },
    {
      "cell_type": "markdown",
      "source": [
        "# Stochastic Hill Climbing"
      ],
      "metadata": {
        "id": "GwVpJylPCfpp"
      }
    },
    {
      "cell_type": "code",
      "source": [
        "num_successes = 0\n",
        "total_time = 0\n",
        "\n",
        "for i in range(NUM_SIMULATIONS):\n",
        "  start = time.time()\n",
        "  NQueen(N=N, randomRestart=True, stochastic=True, upperBound=K)\n",
        "  end = time.time()\n",
        "  total_time += (end - start)\n",
        "    \n",
        "  if success:\n",
        "    num_successes += 1\n",
        "\n",
        "print(f\"Elapsed time: {total_time}, with {num_successes} successes in {NUM_SIMULATIONS} simulations for N={N}.\")"
      ],
      "metadata": {
        "id": "8CnhKVZWCfY5",
        "colab": {
          "base_uri": "https://localhost:8080/"
        },
        "outputId": "50612225-6319-468a-c5cb-8cf3aeccafae"
      },
      "execution_count": 41,
      "outputs": [
        {
          "output_type": "stream",
          "name": "stdout",
          "text": [
            "Elapsed time: 0.17966556549072266, with 0 successes in 100 simulations for N=10.\n"
          ]
        }
      ]
    }
  ]
}